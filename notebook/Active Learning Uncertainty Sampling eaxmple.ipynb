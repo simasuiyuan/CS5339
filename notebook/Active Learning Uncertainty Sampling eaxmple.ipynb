{
 "cells": [
  {
   "cell_type": "code",
   "execution_count": 1,
   "metadata": {
    "ExecuteTime": {
     "end_time": "2021-04-02T13:24:44.296377Z",
     "start_time": "2021-04-02T13:24:44.293868Z"
    }
   },
   "outputs": [],
   "source": [
    "# from sklearn.svm import SVC, LinearSVC\n",
    "# import pandas as pd\n",
    "# import numpy as np\n",
    "# import matplotlib.pyplot as plt\n",
    "# from sklearn.model_selection import train_test_split\n",
    "# %matplotlib inline\n",
    "\n",
    "# import imageio as io\n",
    "# import os\n",
    "# from matplotlib.markers import MarkerStyle"
   ]
  },
  {
   "cell_type": "code",
   "execution_count": 2,
   "metadata": {
    "ExecuteTime": {
     "end_time": "2021-04-02T13:24:44.342407Z",
     "start_time": "2021-04-02T13:24:44.340507Z"
    }
   },
   "outputs": [],
   "source": [
    "# # Read data into a DataFrame\n",
    "# origdata = pd.read_csv('/etlstage/PEE_joint/NUS_modules/CS5339/project/Iris.csv')\n",
    "# origdata.head()"
   ]
  },
  {
   "cell_type": "code",
   "execution_count": 3,
   "metadata": {
    "ExecuteTime": {
     "end_time": "2021-04-02T13:24:44.350908Z",
     "start_time": "2021-04-02T13:24:44.349022Z"
    }
   },
   "outputs": [],
   "source": [
    "# # k1, k2 = 'SepalWidthCm', 'PetalLengthCm'\n",
    "# k1, k2 = 'PetalLengthCm', 'PetalWidthCm'\n",
    "# data = origdata[[k1, k2, 'Species']].copy()\n",
    "# # data = origdata[['SepalWidthCm', 'PetalLengthCm', 'Species']]\n",
    "# data[:10]"
   ]
  },
  {
   "cell_type": "code",
   "execution_count": 4,
   "metadata": {
    "ExecuteTime": {
     "end_time": "2021-04-02T13:24:44.378507Z",
     "start_time": "2021-04-02T13:24:44.360278Z"
    }
   },
   "outputs": [],
   "source": [
    "# X = data[[k1, k2]]\n",
    "# y = data['Species']\n",
    "# print('Classes:')\n",
    "# print(y.unique(), '\\n\\n\\n')\n",
    "\n",
    "# y[y=='Iris-setosa'] = 0\n",
    "# y[y=='Iris-versicolor'] = 1\n",
    "# y[y=='Iris-virginica'] = 2"
   ]
  },
  {
   "cell_type": "code",
   "execution_count": 5,
   "metadata": {
    "ExecuteTime": {
     "end_time": "2021-04-02T13:24:44.383935Z",
     "start_time": "2021-04-02T13:24:44.379977Z"
    }
   },
   "outputs": [],
   "source": [
    "# plt.figure()\n",
    "# setosa = y == 0\n",
    "# versicolor = y == 1\n",
    "# virginica = y == 2\n",
    "\n",
    "# # k1, k2 = k2, k1\n",
    "# plt.scatter(X[k1][versicolor], X[k2][versicolor], c='r')\n",
    "# plt.scatter(X[k1][virginica], X[k2][virginica], c='c')\n",
    "\n",
    "# plt.show()"
   ]
  },
  {
   "cell_type": "code",
   "execution_count": 6,
   "metadata": {
    "ExecuteTime": {
     "end_time": "2021-04-02T13:24:44.389539Z",
     "start_time": "2021-04-02T13:24:44.387568Z"
    }
   },
   "outputs": [],
   "source": [
    "# X1 = X[y != 0]\n",
    "# y1 = y[y != 0]\n",
    "# X1[:5]"
   ]
  },
  {
   "cell_type": "code",
   "execution_count": 7,
   "metadata": {
    "ExecuteTime": {
     "end_time": "2021-04-02T13:24:44.414988Z",
     "start_time": "2021-04-02T13:24:44.413209Z"
    }
   },
   "outputs": [],
   "source": [
    "# X1 = X1.reset_index(drop=True)\n",
    "# y1 = y1.reset_index(drop=True)\n",
    "# y1 -= 1\n",
    "# print(y1.unique())\n",
    "# X1[:5]"
   ]
  },
  {
   "cell_type": "code",
   "execution_count": 8,
   "metadata": {
    "ExecuteTime": {
     "end_time": "2021-04-02T13:24:44.436371Z",
     "start_time": "2021-04-02T13:24:44.434250Z"
    }
   },
   "outputs": [],
   "source": [
    "# fig = plt.figure()\n",
    "\n",
    "# # k1, k2 = k2, k1\n",
    "\n",
    "# # plt.scatter(x[k1][setosa], x[k2][setosa], c='r')\n",
    "# plt.scatter(X1[k1][y1==0], X1[k2][y1==0], c='r')\n",
    "# plt.scatter(X1[k1][y1==1], X1[k2][y1==1], c='c')\n",
    "\n",
    "# plt.xlabel(k1)\n",
    "# plt.ylabel(k2)\n",
    "# plt.show()"
   ]
  },
  {
   "cell_type": "code",
   "execution_count": 9,
   "metadata": {
    "ExecuteTime": {
     "end_time": "2021-04-02T13:24:44.452178Z",
     "start_time": "2021-04-02T13:24:44.450234Z"
    }
   },
   "outputs": [],
   "source": [
    "# y1 = y1.astype(dtype=np.uint8)\n",
    "\n",
    "\n",
    "# clf0 = LinearSVC()\n",
    "# clf0.fit(X1, y1)\n",
    "\n",
    "# print(clf0.coef_)\n",
    "# print(clf0.intercept_)"
   ]
  },
  {
   "cell_type": "code",
   "execution_count": 10,
   "metadata": {
    "ExecuteTime": {
     "end_time": "2021-04-02T13:24:44.467122Z",
     "start_time": "2021-04-02T13:24:44.464840Z"
    }
   },
   "outputs": [],
   "source": [
    "# xmin, xmax = X1[k1].min(), X1[k1].max()\n",
    "# ymin, ymax = X1[k2].min(), X1[k2].max()\n",
    "# stepx = (xmax - xmin)/99\n",
    "# stepy = (ymax - ymin)/99\n",
    "\n",
    "\n",
    "# a0, b0, c0 = clf0.coef_[0, 0], clf0.coef_[0, 1], clf0.intercept_\n",
    "\n",
    "# # a*x + b*y + c = 0\n",
    "# # y = -(a*x + c)/b\n",
    "\n",
    "# lx0 = [xmin + stepx * i for i in range(100)]\n",
    "# ly0 = [-(a0*lx0[i] + c0)/b0 for i in range(100)]\n",
    "\n",
    "# plt.figure()\n",
    "\n",
    "# # k1, k2 = k2, k1\n",
    "\n",
    "# # plt.scatter(x[k1][setosa], x[k2][setosa], c='r')\n",
    "# plt.scatter(X1[k1][y1==0], X1[k2][y1==0], c='r')\n",
    "# plt.scatter(X1[k1][y1==1], X1[k2][y1==1], c='c')\n",
    "\n",
    "# plt.plot(lx0, ly0, c='m')\n",
    "\n",
    "# plt.xlabel(k1)\n",
    "# plt.ylabel(k2)\n",
    "\n",
    "# plt.show()"
   ]
  },
  {
   "cell_type": "code",
   "execution_count": 11,
   "metadata": {
    "ExecuteTime": {
     "end_time": "2021-04-02T13:24:44.475709Z",
     "start_time": "2021-04-02T13:24:44.474125Z"
    }
   },
   "outputs": [],
   "source": [
    "# X_pool, X_test, y_pool, y_test = train_test_split(X1, y1, test_size=0.2, random_state=2)\n",
    "# X_pool, X_test, y_pool, y_test = X_pool.reset_index(drop=True), X_test.reset_index(drop=True), y_pool.reset_index(drop=True), y_test.reset_index(drop=True)\n",
    "# clf0.decision_function(X_pool.iloc[6:8])"
   ]
  },
  {
   "cell_type": "code",
   "execution_count": 12,
   "metadata": {
    "ExecuteTime": {
     "end_time": "2021-04-02T13:24:44.485140Z",
     "start_time": "2021-04-02T13:24:44.483012Z"
    }
   },
   "outputs": [],
   "source": [
    "# def plot_svm(clf, train_indexes, unknown_indexes, new_index = False, title = False, name = False):\n",
    "#     X_train = X_pool.iloc[train_indexes]\n",
    "#     y_train = y_pool.iloc[train_indexes]\n",
    "\n",
    "#     X_unk = X_pool.iloc[unknown_indexes]\n",
    "#     # y_unk = y_pool.iloc[unknown_indexes]\n",
    "\n",
    "#     if new_index:\n",
    "#         X_new = X_pool.iloc[new_index]\n",
    "\n",
    "#     a, b, c = clf.coef_[0, 0], clf.coef_[0, 1], clf.intercept_\n",
    "\n",
    "#     # a*x + b*y + c = 0\n",
    "#     # y = -(a*x + c)/b\n",
    "\n",
    "#     lx = [xmin + stepx * i for i in range(100)]\n",
    "#     ly = [-(a*lx[i] + c)/b for i in range(100)]\n",
    "\n",
    "#     fig = plt.figure(figsize=(9,6))\n",
    "\n",
    "#     # plt.scatter(x[k1][setosa], x[k2][setosa], c='r')\n",
    "#     plt.scatter(X_unk[k1], X_unk[k2], c='k', marker = '.')\n",
    "#     plt.scatter(X_train[k1][y_train==0], X_train[k2][y_train==0], c='r', marker = 'o')\n",
    "#     plt.scatter(X_train[k1][y_train==1], X_train[k2][y_train==1], c='c', marker = 'o')\n",
    "    \n",
    "\n",
    "#     plt.plot(lx, ly, c='m')\n",
    "#     plt.plot(lx0, ly0, '--', c='g')\n",
    "\n",
    "#     if new_index:\n",
    "#         plt.scatter(X_new[k1], X_new[k2], c='y', marker=\"*\", s=125)\n",
    "#         plt.scatter(X_new[k1], X_new[k2], c='y', marker=\"*\", s=125)\n",
    "#         plt.scatter(X_new[k1], X_new[k2], c='y', marker=\"*\", s=125)\n",
    "#         plt.scatter(X_new[k1], X_new[k2], c='y', marker=\"*\", s=125)\n",
    "#         plt.scatter(X_new[k1], X_new[k2], c='y', marker=\"*\", s=125)\n",
    "\n",
    "#     if title:\n",
    "#         plt.title(title)\n",
    "    \n",
    "#     plt.xlabel(k1)\n",
    "#     plt.ylabel(k2)\n",
    "\n",
    "#     if name:\n",
    "#         fig.set_size_inches((9,6))\n",
    "#         plt.savefig(name, dpi=100)\n",
    "\n",
    "#     plt.show()\n"
   ]
  },
  {
   "cell_type": "code",
   "execution_count": 13,
   "metadata": {
    "ExecuteTime": {
     "end_time": "2021-04-02T13:24:44.506066Z",
     "start_time": "2021-04-02T13:24:44.504466Z"
    }
   },
   "outputs": [],
   "source": [
    "# def find_most_ambiguous(clf, unknown_indexes):\n",
    "    \n",
    "#     ind = np.argmin(np.abs( \n",
    "#         list(clf0.decision_function(X_pool.iloc[unknown_indexes]) )\n",
    "#         ))\n",
    "#     return unknown_indexes[ind]"
   ]
  },
  {
   "cell_type": "code",
   "execution_count": 14,
   "metadata": {
    "ExecuteTime": {
     "end_time": "2021-04-02T13:24:44.533298Z",
     "start_time": "2021-04-02T13:24:44.531078Z"
    }
   },
   "outputs": [],
   "source": [
    "# train_indexes = list(range(10))\n",
    "# unknown_indexes = list(range(10, 80))\n",
    "# X_train = X_pool.iloc[train_indexes]\n",
    "# y_train = y_pool.iloc[train_indexes]\n",
    "# clf = LinearSVC()\n",
    "# clf.fit(X_train, y_train)\n",
    "\n",
    "# # folder = \"rs1it5/\"\n",
    "# folder = \"rs2it20/\"\n",
    "# # folder = \"rs1it20/\"\n",
    "\n",
    "# try:\n",
    "#     os.mkdir(folder)\n",
    "# except:\n",
    "#     pass\n",
    "\n",
    "# # filenames = [\"ActiveLearningTitleSlide2.jpg\"] * 2\n",
    "# filenames = []\n",
    "\n",
    "# title = \"Begginning\"\n",
    "# # name = folder + (\"rs1it5_0a.jpg\")\n",
    "# name = folder + (\"rs2it20_0a.jpg\")\n",
    "# plot_svm(clf, train_indexes, unknown_indexes, False, title, name)\n",
    "\n",
    "# filenames.append(name)\n",
    "\n",
    "# n = find_most_ambiguous(clf, unknown_indexes)\n",
    "# unknown_indexes.remove(n)\n",
    "\n",
    "# title = \"Iteration 0\"\n",
    "# # name = folder + (\"rs1it5_0b.jpg\")\n",
    "# name = folder + (\"rs2it20_0b.jpg\")\n",
    "# filenames.append(name)\n",
    "\n",
    "# plot_svm(clf, train_indexes, unknown_indexes, n, title, name)\n",
    "# t = []\n",
    "# # for i in range(5):\n",
    "# for i in range(20):\n",
    "    \n",
    "#     train_indexes.append(n)\n",
    "#     X_train = X_pool.iloc[train_indexes]\n",
    "#     y_train = y_pool.iloc[train_indexes]\n",
    "#     clf = LinearSVC()\n",
    "#     clf.fit(X_train, y_train)\n",
    "#     # title, name = \"Iteration \"+str(i+1), folder + (\"rs1it5_%d.jpg\" % (i+1))\n",
    "#     title, name = \"Iteration \"+str(i+1), folder + (\"rs2it20_%d.jpg\" % (i+1))\n",
    "\n",
    "#     n = find_most_ambiguous(clf, unknown_indexes)\n",
    "#     unknown_indexes.remove(n)\n",
    "#     plot_svm(clf, train_indexes, unknown_indexes, n, title, name)\n",
    "#     filenames.append(name)"
   ]
  },
  {
   "cell_type": "code",
   "execution_count": null,
   "metadata": {},
   "outputs": [],
   "source": []
  }
 ],
 "metadata": {
  "kernelspec": {
   "display_name": "f10ds_spark_py36",
   "language": "python",
   "name": "f10ds_spark_py36"
  },
  "language_info": {
   "codemirror_mode": {
    "name": "ipython",
    "version": 3
   },
   "file_extension": ".py",
   "mimetype": "text/x-python",
   "name": "python",
   "nbconvert_exporter": "python",
   "pygments_lexer": "ipython3",
   "version": "3.6.9"
  },
  "varInspector": {
   "cols": {
    "lenName": 16,
    "lenType": 16,
    "lenVar": 40
   },
   "kernels_config": {
    "python": {
     "delete_cmd_postfix": "",
     "delete_cmd_prefix": "del ",
     "library": "var_list.py",
     "varRefreshCmd": "print(var_dic_list())"
    },
    "r": {
     "delete_cmd_postfix": ") ",
     "delete_cmd_prefix": "rm(",
     "library": "var_list.r",
     "varRefreshCmd": "cat(var_dic_list()) "
    }
   },
   "types_to_exclude": [
    "module",
    "function",
    "builtin_function_or_method",
    "instance",
    "_Feature"
   ],
   "window_display": false
  }
 },
 "nbformat": 4,
 "nbformat_minor": 4
}
